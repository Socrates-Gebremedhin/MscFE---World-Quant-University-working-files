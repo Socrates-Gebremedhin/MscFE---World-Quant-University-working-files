{
 "cells": [
  {
   "cell_type": "markdown",
   "id": "43dd7c07",
   "metadata": {},
   "source": [
    "# Calculating Portfolio Standard deviation for multiple assets"
   ]
  },
  {
   "cell_type": "code",
   "execution_count": 2,
   "id": "4772bd63",
   "metadata": {},
   "outputs": [],
   "source": [
    "# Function that calculates portfolio Standard deviation\n",
    "import math as m\n",
    "def portf_std(wghts,cov_mat):\n",
    "    \"\"\"\n",
    "    portf_Std: calculates the standrad deviation of a portfolio\n",
    "    wgths: list weights\n",
    "    cov_mat: array covariance matrix\n",
    "    returns: float\n",
    "    \"\"\"\n",
    "    var = 0\n",
    "    for i,val in enumerate(wghts):\n",
    "        for j,val2 in enumerate(wghts):\n",
    "            var += val*val2*cov_mat[i][j]\n",
    "    return m.sqrt(var)"
   ]
  },
  {
   "cell_type": "markdown",
   "id": "195af03b",
   "metadata": {},
   "source": [
    "## Example: Using formula to calculate standard deviation of five assets"
   ]
  },
  {
   "cell_type": "code",
   "execution_count": 9,
   "id": "16aa72d8",
   "metadata": {},
   "outputs": [
    {
     "name": "stdout",
     "output_type": "stream",
     "text": [
      "The standard deviation for the five securities becomes: 0.0086\n"
     ]
    }
   ],
   "source": [
    "#weights of each securities\n",
    "weights = [0.2,0.2,0.2,0.2,0.2]\n",
    "\n",
    "# Covariance matrix\n",
    "cov_mat = [[8.69E-05,5.89E-05,5.75E-05,6.42E-05,5.45E-05\n",
    "],[5.89E-05,9.13E-05,7.61E-05,6.93E-05,5.44E-05\n",
    "],[5.75E-05,7.61E-05,0.000179796,8.01E-05,5.53E-05\n",
    "],[6.42E-05,6.93E-05,8.01E-05,0.000134139,6.48E-05\n",
    "],[5.45E-05,5.44E-05,5.53E-05,6.48E-05,7.02E-05\n",
    "]]\n",
    "\n",
    "#Calculate SD\n",
    "SD = portf_std(weights,cov_mat)\n",
    "print(\"The standard deviation for the five securities becomes:\", round(SD,4))"
   ]
  },
  {
   "cell_type": "markdown",
   "id": "81593234",
   "metadata": {},
   "source": [
    "### References"
   ]
  },
  {
   "cell_type": "markdown",
   "id": "ca1c7f90",
   "metadata": {},
   "source": [
    "https://faculty.washington.edu/ezivot/econ422/Portfolio%20Theory%20EZ.pdf"
   ]
  }
 ],
 "metadata": {
  "kernelspec": {
   "display_name": "Python 3 (ipykernel)",
   "language": "python",
   "name": "python3"
  },
  "language_info": {
   "codemirror_mode": {
    "name": "ipython",
    "version": 3
   },
   "file_extension": ".py",
   "mimetype": "text/x-python",
   "name": "python",
   "nbconvert_exporter": "python",
   "pygments_lexer": "ipython3",
   "version": "3.9.13"
  }
 },
 "nbformat": 4,
 "nbformat_minor": 5
}
